{
 "cells": [
  {
   "cell_type": "code",
   "execution_count": 1,
   "metadata": {},
   "outputs": [],
   "source": [
    "import os\n",
    "os.chdir('../../')\n",
    "\n",
    "import pandas as pd\n",
    "import numpy as np\n",
    "import random\n",
    "from sklearn.model_selection import train_test_split\n",
    "\n",
    "from preprocessing.triplets import generate_triplet_dataset\n"
   ]
  },
  {
   "cell_type": "code",
   "execution_count": 2,
   "metadata": {},
   "outputs": [],
   "source": [
    "DATA_FOLDER = './data/'\n",
    "TRAIN_VAL_CSV = 'train_val.csv'\n",
    "SEED = 11\n",
    "\n",
    "DEBIASED_FOLDER = './data/quora_qp_leakage/' \n",
    "DEBIASED_RESULT_FOLDER = './data/debiased/'\n"
   ]
  },
  {
   "cell_type": "markdown",
   "metadata": {},
   "source": [
    "### Split train.csv dataset with stratification. Seed fixed."
   ]
  },
  {
   "cell_type": "code",
   "execution_count": 3,
   "metadata": {},
   "outputs": [],
   "source": [
    "train_df = pd.read_csv(DATA_FOLDER + TRAIN_VAL_CSV, index_col='id').fillna('')\n",
    "X_train = np.arange(len(train_df))\n",
    "y_train = train_df['is_duplicate'].to_numpy(dtype=np.int32)\n",
    "X_train, X_val, y_train, y_val = train_test_split(X_train, y_train, test_size=0.15, stratify=y_train, random_state=SEED)\n",
    "valid_df = train_df.iloc[X_val]\n",
    "train_df = train_df.iloc[X_train]\n",
    "\n",
    "train_df.to_csv(DATA_FOLDER + 'train.csv', index_label='id')\n",
    "valid_df.to_csv(DATA_FOLDER + 'valid.csv', index_label='id')\n"
   ]
  },
  {
   "cell_type": "markdown",
   "metadata": {},
   "source": [
    "### debiased version"
   ]
  },
  {
   "cell_type": "code",
   "execution_count": 3,
   "metadata": {},
   "outputs": [],
   "source": [
    "names = ['label', 'question1', 'question2', 'id']\n",
    "train_debiased_df = pd.read_csv(DEBIASED_FOLDER + 'train.tsv', sep='\\t', header=None, index_col=3, names=names)\n",
    "valid_debiased_df = pd.read_csv(DEBIASED_FOLDER + 'dev.tsv', sep='\\t', header=None, index_col=3, names=names)\n",
    "test_debiased_df = pd.read_csv(DEBIASED_FOLDER + 'test.tsv', sep='\\t', header=None, index_col=3, names=names)\n",
    "\n",
    "all_debiased_df = pd.concat([train_debiased_df, valid_debiased_df, test_debiased_df])\n",
    "\n",
    "weights = np.load(DEBIASED_FOLDER + 'weights.npy')\n",
    "all_debiased_df['weights'] = weights"
   ]
  },
  {
   "cell_type": "code",
   "execution_count": 4,
   "metadata": {},
   "outputs": [
    {
     "data": {
      "text/html": [
       "<div>\n",
       "<style scoped>\n",
       "    .dataframe tbody tr th:only-of-type {\n",
       "        vertical-align: middle;\n",
       "    }\n",
       "\n",
       "    .dataframe tbody tr th {\n",
       "        vertical-align: top;\n",
       "    }\n",
       "\n",
       "    .dataframe thead th {\n",
       "        text-align: right;\n",
       "    }\n",
       "</style>\n",
       "<table border=\"1\" class=\"dataframe\">\n",
       "  <thead>\n",
       "    <tr style=\"text-align: right;\">\n",
       "      <th></th>\n",
       "      <th>label</th>\n",
       "      <th>question1</th>\n",
       "      <th>question2</th>\n",
       "      <th>weights</th>\n",
       "    </tr>\n",
       "    <tr>\n",
       "      <th>id</th>\n",
       "      <th></th>\n",
       "      <th></th>\n",
       "      <th></th>\n",
       "      <th></th>\n",
       "    </tr>\n",
       "  </thead>\n",
       "  <tbody>\n",
       "    <tr>\n",
       "      <th>11877</th>\n",
       "      <td>1</td>\n",
       "      <td>What is your review of Hidden Figures -LRB- 20...</td>\n",
       "      <td>What are your impressions of Hidden Figures -L...</td>\n",
       "      <td>1.472674</td>\n",
       "    </tr>\n",
       "    <tr>\n",
       "      <th>221489</th>\n",
       "      <td>0</td>\n",
       "      <td>Currently , all Supreme Court Justices come fr...</td>\n",
       "      <td>What 's your type of jungle -LRB- concrete or ...</td>\n",
       "      <td>0.786593</td>\n",
       "    </tr>\n",
       "    <tr>\n",
       "      <th>92126</th>\n",
       "      <td>1</td>\n",
       "      <td>Why is saltwater taffy candy imported in Austr...</td>\n",
       "      <td>Why is salt water taffy candy unknown in Japan ?</td>\n",
       "      <td>0.512830</td>\n",
       "    </tr>\n",
       "    <tr>\n",
       "      <th>289278</th>\n",
       "      <td>0</td>\n",
       "      <td>Who has the better stable of characters , DC o...</td>\n",
       "      <td>Which is better - DC or Marvel ?</td>\n",
       "      <td>0.640092</td>\n",
       "    </tr>\n",
       "    <tr>\n",
       "      <th>328558</th>\n",
       "      <td>1</td>\n",
       "      <td>What is difference between CAT and GMAT in ter...</td>\n",
       "      <td>What is the difference between the CAT and GMA...</td>\n",
       "      <td>0.539173</td>\n",
       "    </tr>\n",
       "    <tr>\n",
       "      <th>...</th>\n",
       "      <td>...</td>\n",
       "      <td>...</td>\n",
       "      <td>...</td>\n",
       "      <td>...</td>\n",
       "    </tr>\n",
       "    <tr>\n",
       "      <th>119469</th>\n",
       "      <td>0</td>\n",
       "      <td>How do I learn Java internals ?</td>\n",
       "      <td>What is the best way to learn Java ?</td>\n",
       "      <td>0.635925</td>\n",
       "    </tr>\n",
       "    <tr>\n",
       "      <th>399384</th>\n",
       "      <td>1</td>\n",
       "      <td>`` Maybe a bit of levity in this campaign . Do...</td>\n",
       "      <td>`` Is Trump saying '' `` bigly '' '' or '' `` ...</td>\n",
       "      <td>1.455941</td>\n",
       "    </tr>\n",
       "    <tr>\n",
       "      <th>77490</th>\n",
       "      <td>0</td>\n",
       "      <td>What should a ceo earn ?</td>\n",
       "      <td>What is CEO ?</td>\n",
       "      <td>0.786286</td>\n",
       "    </tr>\n",
       "    <tr>\n",
       "      <th>282388</th>\n",
       "      <td>1</td>\n",
       "      <td>Where can I get affordable party photo booth s...</td>\n",
       "      <td>Where can I find affordable photo booth servic...</td>\n",
       "      <td>0.560713</td>\n",
       "    </tr>\n",
       "    <tr>\n",
       "      <th>334703</th>\n",
       "      <td>0</td>\n",
       "      <td>Why did the Conservative Party lose the 1945 g...</td>\n",
       "      <td>What is the general opinion of Winston Churchi...</td>\n",
       "      <td>0.704668</td>\n",
       "    </tr>\n",
       "  </tbody>\n",
       "</table>\n",
       "<p>404348 rows × 4 columns</p>\n",
       "</div>"
      ],
      "text/plain": [
       "        label                                          question1  \\\n",
       "id                                                                 \n",
       "11877       1  What is your review of Hidden Figures -LRB- 20...   \n",
       "221489      0  Currently , all Supreme Court Justices come fr...   \n",
       "92126       1  Why is saltwater taffy candy imported in Austr...   \n",
       "289278      0  Who has the better stable of characters , DC o...   \n",
       "328558      1  What is difference between CAT and GMAT in ter...   \n",
       "...       ...                                                ...   \n",
       "119469      0                    How do I learn Java internals ?   \n",
       "399384      1  `` Maybe a bit of levity in this campaign . Do...   \n",
       "77490       0                           What should a ceo earn ?   \n",
       "282388      1  Where can I get affordable party photo booth s...   \n",
       "334703      0  Why did the Conservative Party lose the 1945 g...   \n",
       "\n",
       "                                                question2   weights  \n",
       "id                                                                   \n",
       "11877   What are your impressions of Hidden Figures -L...  1.472674  \n",
       "221489  What 's your type of jungle -LRB- concrete or ...  0.786593  \n",
       "92126    Why is salt water taffy candy unknown in Japan ?  0.512830  \n",
       "289278                   Which is better - DC or Marvel ?  0.640092  \n",
       "328558  What is the difference between the CAT and GMA...  0.539173  \n",
       "...                                                   ...       ...  \n",
       "119469               What is the best way to learn Java ?  0.635925  \n",
       "399384  `` Is Trump saying '' `` bigly '' '' or '' `` ...  1.455941  \n",
       "77490                                       What is CEO ?  0.786286  \n",
       "282388  Where can I find affordable photo booth servic...  0.560713  \n",
       "334703  What is the general opinion of Winston Churchi...  0.704668  \n",
       "\n",
       "[404348 rows x 4 columns]"
      ]
     },
     "execution_count": 4,
     "metadata": {},
     "output_type": "execute_result"
    }
   ],
   "source": [
    "all_debiased_df"
   ]
  },
  {
   "cell_type": "markdown",
   "metadata": {},
   "source": [
    "### read data df"
   ]
  },
  {
   "cell_type": "code",
   "execution_count": 15,
   "metadata": {},
   "outputs": [],
   "source": [
    "train_df = pd.read_csv(DATA_FOLDER + 'train.csv', index_col='id')\n",
    "train_df = train_df.join(all_debiased_df['weights'], on='id')\n",
    "train_df = train_df.fillna(1.0)"
   ]
  },
  {
   "cell_type": "code",
   "execution_count": 16,
   "metadata": {},
   "outputs": [
    {
     "data": {
      "text/html": [
       "<div>\n",
       "<style scoped>\n",
       "    .dataframe tbody tr th:only-of-type {\n",
       "        vertical-align: middle;\n",
       "    }\n",
       "\n",
       "    .dataframe tbody tr th {\n",
       "        vertical-align: top;\n",
       "    }\n",
       "\n",
       "    .dataframe thead th {\n",
       "        text-align: right;\n",
       "    }\n",
       "</style>\n",
       "<table border=\"1\" class=\"dataframe\">\n",
       "  <thead>\n",
       "    <tr style=\"text-align: right;\">\n",
       "      <th></th>\n",
       "      <th>qid1</th>\n",
       "      <th>qid2</th>\n",
       "      <th>question1</th>\n",
       "      <th>question2</th>\n",
       "      <th>is_duplicate</th>\n",
       "      <th>weights</th>\n",
       "    </tr>\n",
       "    <tr>\n",
       "      <th>id</th>\n",
       "      <th></th>\n",
       "      <th></th>\n",
       "      <th></th>\n",
       "      <th></th>\n",
       "      <th></th>\n",
       "      <th></th>\n",
       "    </tr>\n",
       "  </thead>\n",
       "  <tbody>\n",
       "  </tbody>\n",
       "</table>\n",
       "</div>"
      ],
      "text/plain": [
       "Empty DataFrame\n",
       "Columns: [qid1, qid2, question1, question2, is_duplicate, weights]\n",
       "Index: []"
      ]
     },
     "execution_count": 16,
     "metadata": {},
     "output_type": "execute_result"
    }
   ],
   "source": [
    "train_df[train_df['weights'].isna()]"
   ]
  },
  {
   "cell_type": "code",
   "execution_count": 17,
   "metadata": {},
   "outputs": [],
   "source": [
    "valid_df = pd.read_csv(DATA_FOLDER + 'valid.csv', index_col='id')\n",
    "valid_df = valid_df.join(all_debiased_df['weights'], on='id')"
   ]
  },
  {
   "cell_type": "code",
   "execution_count": 18,
   "metadata": {},
   "outputs": [
    {
     "data": {
      "text/html": [
       "<div>\n",
       "<style scoped>\n",
       "    .dataframe tbody tr th:only-of-type {\n",
       "        vertical-align: middle;\n",
       "    }\n",
       "\n",
       "    .dataframe tbody tr th {\n",
       "        vertical-align: top;\n",
       "    }\n",
       "\n",
       "    .dataframe thead th {\n",
       "        text-align: right;\n",
       "    }\n",
       "</style>\n",
       "<table border=\"1\" class=\"dataframe\">\n",
       "  <thead>\n",
       "    <tr style=\"text-align: right;\">\n",
       "      <th></th>\n",
       "      <th>qid1</th>\n",
       "      <th>qid2</th>\n",
       "      <th>question1</th>\n",
       "      <th>question2</th>\n",
       "      <th>is_duplicate</th>\n",
       "      <th>weights</th>\n",
       "    </tr>\n",
       "    <tr>\n",
       "      <th>id</th>\n",
       "      <th></th>\n",
       "      <th></th>\n",
       "      <th></th>\n",
       "      <th></th>\n",
       "      <th></th>\n",
       "      <th></th>\n",
       "    </tr>\n",
       "  </thead>\n",
       "  <tbody>\n",
       "  </tbody>\n",
       "</table>\n",
       "</div>"
      ],
      "text/plain": [
       "Empty DataFrame\n",
       "Columns: [qid1, qid2, question1, question2, is_duplicate, weights]\n",
       "Index: []"
      ]
     },
     "execution_count": 18,
     "metadata": {},
     "output_type": "execute_result"
    }
   ],
   "source": [
    "valid_df[valid_df['weights'].isna()]"
   ]
  },
  {
   "cell_type": "code",
   "execution_count": 20,
   "metadata": {},
   "outputs": [],
   "source": [
    "train_df = train_df.to_csv(DEBIASED_RESULT_FOLDER + 'train.csv')\n",
    "valid_df = valid_df.to_csv(DEBIASED_RESULT_FOLDER + 'valid.csv')\n"
   ]
  }
 ],
 "metadata": {
  "kernelspec": {
   "display_name": "quora_question_pairs",
   "language": "python",
   "name": "quora_question_pairs"
  },
  "language_info": {
   "codemirror_mode": {
    "name": "ipython",
    "version": 3
   },
   "file_extension": ".py",
   "mimetype": "text/x-python",
   "name": "python",
   "nbconvert_exporter": "python",
   "pygments_lexer": "ipython3",
   "version": "3.7.4"
  }
 },
 "nbformat": 4,
 "nbformat_minor": 2
}
