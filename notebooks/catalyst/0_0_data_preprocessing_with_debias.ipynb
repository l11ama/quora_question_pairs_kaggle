{
 "cells": [
  {
   "cell_type": "code",
   "execution_count": 1,
   "metadata": {},
   "outputs": [],
   "source": [
    "import os\n",
    "os.chdir('../../')\n",
    "\n",
    "import pandas as pd\n",
    "import numpy as np\n",
    "import random\n",
    "from sklearn.model_selection import train_test_split\n",
    "\n",
    "from preprocessing.triplets import generate_triplet_dataset\n"
   ]
  },
  {
   "cell_type": "code",
   "execution_count": 2,
   "metadata": {},
   "outputs": [],
   "source": [
    "DATA_FOLDER = './data/'\n",
    "TRAIN_VAL_CSV = 'train_val.csv'\n",
    "SEED = 11\n"
   ]
  },
  {
   "cell_type": "markdown",
   "metadata": {},
   "source": [
    "### Split train.csv dataset with stratification. Seed fixed."
   ]
  },
  {
   "cell_type": "code",
   "execution_count": 3,
   "metadata": {},
   "outputs": [],
   "source": [
    "train_df = pd.read_csv(DATA_FOLDER + TRAIN_VAL_CSV, index_col='id').fillna('')\n",
    "X_train = np.arange(len(train_df))\n",
    "y_train = train_df['is_duplicate'].to_numpy(dtype=np.int32)\n",
    "X_train, X_val, y_train, y_val = train_test_split(X_train, y_train, test_size=0.15, stratify=y_train, random_state=SEED)\n",
    "valid_df = train_df.iloc[X_val]\n",
    "train_df = train_df.iloc[X_train]\n",
    "\n",
    "train_df.to_csv(DATA_FOLDER + 'train.csv', index_label='id')\n",
    "valid_df.to_csv(DATA_FOLDER + 'valid.csv', index_label='id')\n"
   ]
  }
 ],
 "metadata": {
  "kernelspec": {
   "display_name": "quora_question_pairs",
   "language": "python",
   "name": "quora_question_pairs"
  },
  "language_info": {
   "codemirror_mode": {
    "name": "ipython",
    "version": 3
   },
   "file_extension": ".py",
   "mimetype": "text/x-python",
   "name": "python",
   "nbconvert_exporter": "python",
   "pygments_lexer": "ipython3",
   "version": "3.7.4"
  }
 },
 "nbformat": 4,
 "nbformat_minor": 2
}
